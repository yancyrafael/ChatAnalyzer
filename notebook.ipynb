{
 "cells": [
  {
   "cell_type": "code",
   "execution_count": 5,
   "metadata": {},
   "outputs": [],
   "source": [
    "import pandas as pd\n",
    "import numpy as np\n",
    "import re\n",
    "\n",
    "import emoji\n",
    "import collections as c\n",
    "\n",
    "# for visualization\n",
    "import matplotlib.pyplot as plt\n",
    "import plotly.express as px\n",
    "# word cloud\n",
    "from wordcloud import WordCloud, STOPWORDS"
   ]
  },
  {
   "cell_type": "code",
   "execution_count": 6,
   "metadata": {},
   "outputs": [],
   "source": [
    "def startsWithDateTime(s):\n",
    " #   pattern = '^([0-2][0-9]|(3)[0-1])(\\/)(((0)[0-9])|((1)[0-2]))(\\/)(\\d{2}|\\d{4}), ([0-9])|([0-9]):([0-9][0-9]) '\n",
    "    pattern = '^([2][0-9][0-9][0-9])+(/)(((0)[0-9])|((1)[0-2]))+(/)([0-2][0-9]|(3)[0-1]), ([0-9])|([0-9]):([0-9][0-9]) '\n",
    "    result = re.match(pattern, s)\n",
    "    if result:\n",
    "        return True\n",
    "    return False"
   ]
  },
  {
   "cell_type": "code",
   "execution_count": 8,
   "metadata": {},
   "outputs": [],
   "source": [
    "def startsWithAuthor(s):\n",
    "    \"\"\"\n",
    "        This function is used to verify the string(s) contains 'Author' or not with the help of regular expressions.\n",
    "        \n",
    "        Parameters:\n",
    "            s: String\n",
    "        \n",
    "        Returns:\n",
    "            True if it contains author name otherwise False\n",
    "    \"\"\"\n",
    "    \n",
    "    pattern = '^([\\w()\\[\\]-]+):|([\\w]+[\\s]+([\\w()\\[\\]-]+)):'\n",
    "    result = re.match(pattern, s)\n",
    "    if result:\n",
    "        return True\n",
    "    return False"
   ]
  },
  {
   "cell_type": "code",
   "execution_count": 13,
   "metadata": {},
   "outputs": [],
   "source": [
    "def getDataPoint(line):\n",
    "    \"\"\"\n",
    "        Use to extract the date, time, author and message from line.\n",
    "        \n",
    "        Parameters: \n",
    "            line (from txt file)\n",
    "        \n",
    "        Returns:\n",
    "            date, time, author, message        \n",
    "    \"\"\"\n",
    "    try:\n",
    "        splitLine = line.split(' - ') # splitLine = ['18/06/17, 22:47', 'Loki: Why do you have 2 numbers, Banner?']\n",
    "    \n",
    "        dateTime = splitLine[0] # dateTime = '18/06/17, 22:47'\n",
    "    except:\n",
    "        splitline = line.split(' ')\n",
    "        dateTime = splitLine[0] # dateTime = '18/06/17, 22:47'\n",
    "        pass\n",
    "    \n",
    "    date, time = dateTime.split(', ') # date = '18/06/17'; time = '22:47'\n",
    "    \n",
    "    message = ' '.join(splitLine[1:]) # message = 'Loki: Why do you have 2 numbers, Banner?'\n",
    "    \n",
    "    if startsWithAuthor(message): # True\n",
    "        splitMessage = message.split(': ') # splitMessage = ['Loki', 'Why do you have 2 numbers, Banner?']\n",
    "        author = splitMessage[0] # author = 'Loki'\n",
    "        message = ' '.join(splitMessage[1:]) # message = 'Why do you have 2 numbers, Banner?'\n",
    "    else:\n",
    "        author = None\n",
    "    return date, time, author, message"
   ]
  },
  {
   "cell_type": "code",
   "execution_count": 14,
   "metadata": {},
   "outputs": [],
   "source": [
    "def read_data(file_contents):\n",
    "    \"\"\"\n",
    "        This function is use to return the extracted data from txt file.\n",
    "        \n",
    "        Parameters:\n",
    "            file_contents -> line by line contents from txt chat file\n",
    "            \n",
    "        Returns:\n",
    "            data -> list of list having elements as date, time, author and message by the user.\n",
    "    \"\"\"\n",
    "    \n",
    "    data = [] # List to keep track of data so it can be used by a Pandas dataframe\n",
    "    \n",
    "    messageData = [] # to capture intermediate output for multi-line messages\n",
    "    date, time, author = None, None, None # Intermediate variables to keep track of the current message being processed\n",
    "    \n",
    "    for line in file_contents:\n",
    "        line = line.strip() # Guarding against erroneous leading and trailing whitespaces\n",
    "\n",
    "        if startsWithDateTime(line): # If a line starts with a Date Time pattern, then this indicates the beginning of a new message\n",
    "            if len(messageData) > 0: # Check if the message buffer contains characters from previous iterations\n",
    "                data.append([date, time, author, ' '.join(messageData)]) # Save the tokens from the previous message in data\n",
    "            messageData.clear() # Clear the messageData so that it can be used for the next message\n",
    "            date, time, author, message = getDataPoint(line) # Identify and extract tokens from the line\n",
    "            messageData.append(message) # Append message\n",
    "        else:\n",
    "            messageData.append(line) # If a line doesn't start with a Date Time pattern, then it is part of a multi-line message. So, just append to messageData\n",
    "    return data"
   ]
  },
  {
   "cell_type": "code",
   "execution_count": 15,
   "metadata": {},
   "outputs": [],
   "source": [
    "def return_df(filename):\n",
    "    \"\"\"\n",
    "        This function reads the txt file of chat and return in dataframe format having columns Date, Time, Author and Message.\n",
    "    \"\"\"\n",
    "    with open(filename) as f:\n",
    "        file_contents = [x.rstrip() for x in f]\n",
    "        \n",
    "    return pd.DataFrame(read_data(file_contents), columns=['Date', 'Time', 'Author', 'Message'])"
   ]
  },
  {
   "cell_type": "code",
   "execution_count": 16,
   "metadata": {},
   "outputs": [
    {
     "data": {
      "text/html": [
       "<div>\n",
       "<style scoped>\n",
       "    .dataframe tbody tr th:only-of-type {\n",
       "        vertical-align: middle;\n",
       "    }\n",
       "\n",
       "    .dataframe tbody tr th {\n",
       "        vertical-align: top;\n",
       "    }\n",
       "\n",
       "    .dataframe thead th {\n",
       "        text-align: right;\n",
       "    }\n",
       "</style>\n",
       "<table border=\"1\" class=\"dataframe\">\n",
       "  <thead>\n",
       "    <tr style=\"text-align: right;\">\n",
       "      <th></th>\n",
       "      <th>Date</th>\n",
       "      <th>Time</th>\n",
       "      <th>Author</th>\n",
       "      <th>Message</th>\n",
       "    </tr>\n",
       "  </thead>\n",
       "  <tbody>\n",
       "  </tbody>\n",
       "</table>\n",
       "</div>"
      ],
      "text/plain": [
       "Empty DataFrame\n",
       "Columns: [Date, Time, Author, Message]\n",
       "Index: []"
      ]
     },
     "execution_count": 16,
     "metadata": {},
     "output_type": "execute_result"
    }
   ],
   "source": [
    "filename=\"test123.txt\"\n",
    "data = return_df(filename)\n",
    "data[\"Date\"] = pd.to_datetime(data[\"Date\"])\n",
    "data.head()"
   ]
  },
  {
   "cell_type": "code",
   "execution_count": null,
   "metadata": {},
   "outputs": [],
   "source": []
  }
 ],
 "metadata": {
  "kernelspec": {
   "display_name": "Python 3",
   "language": "python",
   "name": "python3"
  },
  "language_info": {
   "codemirror_mode": {
    "name": "ipython",
    "version": 3
   },
   "file_extension": ".py",
   "mimetype": "text/x-python",
   "name": "python",
   "nbconvert_exporter": "python",
   "pygments_lexer": "ipython3",
   "version": "3.8.5"
  }
 },
 "nbformat": 4,
 "nbformat_minor": 2
}
